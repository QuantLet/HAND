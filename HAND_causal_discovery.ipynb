{
 "cells": [
  {
   "cell_type": "code",
   "execution_count": 1323,
   "metadata": {},
   "outputs": [],
   "source": [
    "import pandas as pd\n",
    "import numpy as np\n",
    "import scipy.stats as stats\n",
    "\n",
    "import os\n",
    "import glob\n",
    "from functools import reduce\n",
    "\n",
    "import matplotlib.pyplot as plt\n",
    "import pylab \n",
    "\n",
    "import plotly.express as px\n",
    "import plotly.graph_objects as go\n",
    "from plotly.subplots import make_subplots"
   ]
  },
  {
   "cell_type": "code",
   "execution_count": 1324,
   "metadata": {},
   "outputs": [],
   "source": [
    "eth_df = pd.read_csv('eth_all.csv')\n",
    "eth_df.index = eth_df['Date']\n",
    "eth_df = eth_df.drop(columns=['Date'])"
   ]
  },
  {
   "cell_type": "code",
   "execution_count": 1326,
   "metadata": {},
   "outputs": [],
   "source": [
    "names =  ['Block utilization (%)', 'Block time', 'Throughput',\n",
    "                       'Network growth', 'Network activeness (%)',\n",
    "                       'Difficulty adjustment', 'Energy consumption', 'Non-zero balance address',\n",
    "                       'Mining profitability (%)', 'Fee to reward (%)', 'Transaction fee',\n",
    "                       'Development contributor', 'Development activity',\n",
    "                       'Supply deviation', 'Coin age', 'Velocity',\n",
    "                       'Market capitalization', 'MVRV (%)',\n",
    "                       'Trading volume', 'Transaction value', 'Whale transaction',\n",
    "                       'Flow balance', 'Withdrawal transaction',\n",
    "                       'Supply on exchange', 'Supply on non-exchange top holder',\n",
    "                       'Weighted sentiment', 'Social volume',\n",
    "                       'NFT transaction count', 'NFT trading volume',\n",
    "                       'Log return (%)', u'\\U0001D706(1,t)', u'\\U0001D706(2,t)', u'\\u03C3(t|t-2)'\n",
    "                       ]\n"
   ]
  },
  {
   "cell_type": "code",
   "execution_count": 2189,
   "metadata": {},
   "outputs": [],
   "source": [
    "from statsmodels.tsa.stattools import adfuller\n",
    "\n",
    "def adfuller_test(series, signif=0.05, name='', verbose=False):\n",
    "    \"\"\"Perform ADFuller to test for Stationarity of given series and print report\"\"\"\n",
    "    r = adfuller(series, autolag='AIC')\n",
    "    output = {'test_statistic':round(r[0], 4), 'pvalue':round(r[1], 4), 'n_lags':round(r[2], 4), 'n_obs':r[3]}\n",
    "    p_value = output['pvalue'] \n",
    "    def adjust(val, length= 6): return str(val).ljust(length)\n",
    "    return(output)"
   ]
  },
  {
   "cell_type": "code",
   "execution_count": 2190,
   "metadata": {},
   "outputs": [],
   "source": [
    "adf_df1 = []\n",
    "for name, column in eth_df.items():\n",
    "    adf_df1.append(adfuller_test(column, name=column.name))\n",
    "adf_df1 = pd.DataFrame(adf_df1)\n",
    "adf_df1 = adf_df1.drop(['n_lags','n_obs'], axis=1)\n",
    "\n",
    "adf_df2 = []\n",
    "for name, column in eth_df.diff()[1:].items():\n",
    "    adf_df2.append(adfuller_test(column, name=column.name))\n",
    "adf_df2 = pd.DataFrame(adf_df2)\n",
    "adf_df2 = adf_df2.drop(['n_lags','n_obs'], axis=1)\n"
   ]
  },
  {
   "cell_type": "code",
   "execution_count": 2191,
   "metadata": {},
   "outputs": [],
   "source": [
    "pd.options.display.float_format = \"{:,.3f}\".format\n",
    "merged_adf = pd.concat([adf_df1, adf_df2], axis=1)\n",
    "merged_adf.index = names"
   ]
  },
  {
   "cell_type": "code",
   "execution_count": null,
   "metadata": {},
   "outputs": [],
   "source": [
    "eth_nonstationary = eth_df[['block_utilization', 'block_time', 'throughput', 'network_growth',\n",
    "       'network_activeness', 'mining_difficulty', 'energy_twh',\n",
    "       'nonzero_addresses', 'mining_profit', 'fee_in_reward', 'avg_fee', 'supply_deviation', 'coin_age', 'market_cap', 'MVRV', 'trading_vol',\n",
    "       'avg_transaction_value', 'large_transaction', \n",
    "       'withdrawal_count', 'exchange_supply']]\n",
    "eth_stationary = eth_df.drop(['block_utilization', 'block_time', 'throughput', 'network_growth',\n",
    "       'network_activeness', 'mining_difficulty', 'energy_twh',\n",
    "       'nonzero_addresses', 'mining_profit', 'fee_in_reward', 'avg_fee', 'supply_deviation', 'coin_age', 'market_cap', 'MVRV', 'trading_vol',\n",
    "       'avg_transaction_value', 'large_transaction', \n",
    "       'withdrawal_count', 'exchange_supply'], axis=1)\n",
    "eth_nonstationary = eth_nonstationary.diff()\n",
    "\n",
    "eth_new_df = pd.concat([eth_stationary, eth_nonstationary], axis=1)[1:]\n",
    "# reorder cols\n",
    "eth_new_df = eth_new_df[eth_df.columns]"
   ]
  },
  {
   "cell_type": "code",
   "execution_count": null,
   "metadata": {},
   "outputs": [],
   "source": [
    "from itertools import combinations\n",
    "from statsmodels.tsa.api import VAR\n",
    "lag_res = dict()\n",
    "pairs = list(combinations(eth_new_df.columns, 2))\n",
    "for i in pairs:\n",
    "    bics = []\n",
    "    model = VAR(eth_new_df[list(i)])\n",
    "    for p in range(1,31):\n",
    "        result = model.fit(p)\n",
    "        bics.append(result.bic)\n",
    "    lag_res[i] = bics.index(min(bics)) + 1\n",
    "    "
   ]
  },
  {
   "cell_type": "code",
   "execution_count": 1406,
   "metadata": {},
   "outputs": [],
   "source": [
    "from statsmodels.tsa.stattools import grangercausalitytests\n",
    "\n",
    "def granger_causation_matrix(data, variables, p, test = 'ssr_chi2test', verbose=False):    \n",
    "    df = pd.DataFrame(np.zeros((len(variables), len(variables))), columns=variables, index=variables)\n",
    "    for c in df.columns:\n",
    "        for r in df.index:\n",
    "            test_result = grangercausalitytests(data[[r, c]], p, verbose=False)\n",
    "            p_values = [round(test_result[i+1][0][test][1],4) for i in range(p)]\n",
    "            if verbose: print(f'Y = {r}, X = {c}, P Values = {p_values}')\n",
    "            min_p_value = np.min(p_values)\n",
    "            df.loc[r, c] = min_p_value\n",
    "    df.columns = [var + '_x' for var in variables]\n",
    "    df.index = [var + '_y' for var in variables]\n",
    "    return df"
   ]
  },
  {
   "cell_type": "code",
   "execution_count": 1467,
   "metadata": {},
   "outputs": [],
   "source": [
    "granger_list = []\n",
    "for key, value in lag_res.items():\n",
    "    granger_list.append(granger_causation_matrix(eth_new_df[list(key)], eth_new_df[list(key)].columns, value))"
   ]
  },
  {
   "cell_type": "code",
   "execution_count": 1625,
   "metadata": {},
   "outputs": [],
   "source": [
    "all_lst = []\n",
    "for factor in eth_new_df.columns:\n",
    "    lst = []\n",
    "    for i in range(len(granger_list)):\n",
    "        try:\n",
    "            lst.append(granger_list[i]['{}_x'.format(factor)])\n",
    "        except:\n",
    "            continue\n",
    "    factor_df = pd.concat(lst, join='inner')\n",
    "    factor_df = factor_df[~factor_df.index.duplicated(keep='first')]\n",
    "    all_lst.append(factor_df)\n",
    "  \n",
    "correct_index = all_lst[0].index\n",
    "\n",
    "for l in range(2,len(all_lst)):\n",
    "    all_lst[l] =all_lst[l].reindex(list(correct_index))"
   ]
  },
  {
   "cell_type": "code",
   "execution_count": 2037,
   "metadata": {},
   "outputs": [],
   "source": [
    "causal_matrix = pd.concat(all_lst, axis=1)"
   ]
  },
  {
   "cell_type": "code",
   "execution_count": 2038,
   "metadata": {},
   "outputs": [],
   "source": [
    "adj_matrix_sig = causal_matrix.where(causal_matrix <= 0.05, 0)\n",
    "adj_matrix_sig = adj_matrix_sig.where(adj_matrix_sig == 0, 1) \n",
    "adj_matrix_sig.columns = names \n",
    "adj_matrix_sig.index = names"
   ]
  },
  {
   "cell_type": "code",
   "execution_count": null,
   "metadata": {},
   "outputs": [],
   "source": [
    "### if lag = 0 => no\n",
    "lag_correction = corrected_group_lag_df.where(corrected_group_lag_df == 0, 1)\n",
    "adj_matrix_sig = adj_matrix_sig *lag_correction"
   ]
  },
  {
   "attachments": {},
   "cell_type": "markdown",
   "metadata": {},
   "source": [
    "### network"
   ]
  },
  {
   "cell_type": "code",
   "execution_count": 2278,
   "metadata": {},
   "outputs": [],
   "source": [
    "front_matrix = adj_matrix_sig[0:29].where(adj_matrix_sig[0:29]==0, 0)\n",
    "back_matrix = adj_matrix_sig[29:]\n",
    "all_matrix = pd.concat([front_matrix, back_matrix])"
   ]
  },
  {
   "cell_type": "code",
   "execution_count": 2291,
   "metadata": {},
   "outputs": [],
   "source": [
    "adj_matrix_sig_T = adj_matrix_sig.T\n",
    "front_matrix = adj_matrix_sig_T[0:29].where(adj_matrix_sig_T[0:29]==0, 0)\n",
    "back_matrix = adj_matrix_sig_T[29:]\n",
    "all_matrix = pd.concat([front_matrix, back_matrix])"
   ]
  },
  {
   "cell_type": "code",
   "execution_count": 2351,
   "metadata": {},
   "outputs": [],
   "source": [
    "# x -> y\n",
    "i = 17 # 29 return, 32 sigma\n",
    "front_matrix = adj_matrix_sig[0:i].where(adj_matrix_sig[0:i]==0, 0)\n",
    "mid_matrix = adj_matrix_sig[i:i+1]\n",
    "back_matrix = adj_matrix_sig[i+1:33].where(adj_matrix_sig[i+1:33]==0, 0)\n",
    "all_matrix = pd.concat([front_matrix, mid_matrix, back_matrix])"
   ]
  },
  {
   "cell_type": "code",
   "execution_count": 2352,
   "metadata": {},
   "outputs": [],
   "source": [
    "# y -> x transpose\n",
    "i = 17 # 29 return, 32 sigma\n",
    "adj_matrix_sig_T = adj_matrix_sig.T\n",
    "front_matrix = adj_matrix_sig_T[0:i].where(adj_matrix_sig_T[0:i]==0, 0)\n",
    "mid_matrix = adj_matrix_sig_T[i:i+1]\n",
    "back_matrix = adj_matrix_sig_T[i+1:33].where(adj_matrix_sig_T[i+1:33]==0, 0)\n",
    "all_matrix = pd.concat([front_matrix, mid_matrix, back_matrix])"
   ]
  },
  {
   "cell_type": "code",
   "execution_count": 2308,
   "metadata": {},
   "outputs": [],
   "source": [
    "fun_matrix = adj_matrix_sig[0:13]\n",
    "fun_matrix = fun_matrix.iloc[:,0:13]\n",
    "# mkt_matrix = adj_matrix_sig[13:29]\n",
    "# mkt_matrix = mkt_matrix.iloc[:,13:29]\n",
    "# Ｇ = nx.from_pandas_adjacency(mkt_matrix)\n"
   ]
  },
  {
   "cell_type": "code",
   "execution_count": 2353,
   "metadata": {},
   "outputs": [
    {
     "data": {
      "application/vnd.plotly.v1+json": {
       "config": {
        "plotlyServerURL": "https://plot.ly"
       },
       "data": [
        {
         "hoverinfo": "none",
         "line": {
          "color": "blue",
          "width": 1
         },
         "mode": "lines",
         "type": "scatter",
         "x": [
          -0.995471950065687,
          -0.9594929772310223,
          null
         ],
         "y": [
          -0.09505593485384471,
          -0.2817325558905215,
          null
         ]
        },
        {
         "hoverinfo": "text",
         "marker": {
          "color": [
           "rgba(0, 166, 166, 1)",
           "rgba(0, 166, 166, 1)",
           "rgba(0, 166, 166, 1)",
           "rgba(0, 166, 166, 1)",
           "rgba(0, 166, 166, 1)",
           "rgba(0, 166, 166, 1)",
           "rgba(0, 166, 166, 1)",
           "rgba(0, 166, 166, 1)",
           "rgba(0, 166, 166, 1)",
           "rgba(0, 166, 166, 1)",
           "rgba(0, 166, 166, 1)",
           "rgba(0, 166, 166, 1)",
           "rgba(0, 166, 166, 1)",
           "rgba(202, 144, 126, 1)",
           "rgba(202, 144, 126, 1)",
           "rgba(202, 144, 126, 1)",
           "rgba(202, 144, 126, 1)",
           "rgba(202, 144, 126, 1)",
           "rgba(202, 144, 126, 1)",
           "rgba(202, 144, 126, 1)",
           "rgba(202, 144, 126, 1)",
           "rgba(202, 144, 126, 1)",
           "rgba(202, 144, 126, 1)",
           "rgba(202, 144, 126, 1)",
           "rgba(202, 144, 126, 1)",
           "rgba(202, 144, 126, 1)",
           "rgba(202, 144, 126, 1)",
           "rgba(202, 144, 126, 1)",
           "rgba(202, 144, 126, 1)",
           "rgba(239, 202, 8, 1)",
           "rgba(239, 202, 8, 1)",
           "rgba(239, 202, 8, 1)",
           "rgba(239, 202, 8, 1)",
           0,
           0,
           0,
           0,
           0,
           0,
           0,
           0,
           0,
           0,
           0,
           0,
           0,
           0,
           0,
           0,
           0,
           1,
           1,
           0,
           0,
           0,
           0,
           0,
           0,
           0,
           0,
           0,
           0,
           0,
           0,
           0,
           0
          ],
          "line": {
           "width": 0
          },
          "opacity": 1,
          "showscale": false,
          "size": [
           30,
           30,
           30,
           30,
           30,
           30,
           30,
           30,
           30,
           30,
           30,
           30,
           30,
           30,
           30,
           30,
           30,
           33,
           33,
           30,
           30,
           30,
           30,
           30,
           30,
           30,
           30,
           30,
           30,
           30,
           30,
           30,
           30
          ]
         },
         "mode": "markers",
         "text": [
          "Name: Block utilization (%)<br># of connections: 0",
          "Name: Block time<br># of connections: 0",
          "Name: Throughput<br># of connections: 0",
          "Name: Network growth<br># of connections: 0",
          "Name: Network activeness (%)<br># of connections: 0",
          "Name: Difficulty adjustment<br># of connections: 0",
          "Name: Energy consumption<br># of connections: 0",
          "Name: Non-zero balance address<br># of connections: 0",
          "Name: Mining profitability (%)<br># of connections: 0",
          "Name: Fee to reward (%)<br># of connections: 0",
          "Name: Transaction fee<br># of connections: 0",
          "Name: Development contributor<br># of connections: 0",
          "Name: Development activity<br># of connections: 0",
          "Name: Supply deviation<br># of connections: 0",
          "Name: Coin age<br># of connections: 0",
          "Name: Velocity<br># of connections: 0",
          "Name: Market capitalization<br># of connections: 0",
          "Name: MVRV (%)<br># of connections: 1",
          "Name: Trading volume<br># of connections: 1",
          "Name: Transaction value<br># of connections: 0",
          "Name: Whale transaction<br># of connections: 0",
          "Name: Flow balance<br># of connections: 0",
          "Name: Withdrawal transaction<br># of connections: 0",
          "Name: Supply on exchange<br># of connections: 0",
          "Name: Supply on non-exchange top holder<br># of connections: 0",
          "Name: Weighted sentiment<br># of connections: 0",
          "Name: Social volume<br># of connections: 0",
          "Name: NFT transaction count<br># of connections: 0",
          "Name: NFT trading volume<br># of connections: 0",
          "Name: Log return (%)<br># of connections: 0",
          "Name: 𝜆(1,t)<br># of connections: 0",
          "Name: 𝜆(2,t)<br># of connections: 0",
          "Name: σ(t|t-2)<br># of connections: 0"
         ],
         "type": "scatter",
         "x": [
          1,
          0.9819287062078889,
          0.9283679129229587,
          0.8412535193987172,
          0.7237340217793816,
          0.5800569066471808,
          0.4154150796554208,
          0.2357588873804272,
          0.04758189450339206,
          -0.14231483393275582,
          -0.32706790877852815,
          -0.5000000563873486,
          -0.6548606717854792,
          -0.7860530576544495,
          -0.888835485698613,
          -0.9594929772310223,
          -0.995471950065687,
          -0.995471950065687,
          -0.9594929772310223,
          -0.8888354260939685,
          -0.7860531768637388,
          -0.6548607313901239,
          -0.4999999073757369,
          -0.3270677597669165,
          -0.14231501274668976,
          0.04758183117345712,
          0.23575894698507183,
          0.4154151094577431,
          0.5800570854611148,
          0.7237339025700923,
          0.8412534597940725,
          0.9283679129229587,
          0.9819287062078889
         ],
         "y": [
          2.709302029433944e-9,
          0.1892512463715296,
          0.37166246963026095,
          0.5406407729387086,
          0.6900790346039627,
          0.8145759711350293,
          0.9096319683028208,
          0.9718115932037862,
          0.9988673335022006,
          0.9898214346072657,
          0.9450008279948732,
          0.8660253890926095,
          0.7557496439372903,
          0.6181589974886291,
          0.45822644406350477,
          0.2817325911114479,
          0.09505599987709341,
          -0.09505593485384471,
          -0.2817325558905215,
          -0.45822658765651225,
          -0.6181589324653805,
          -0.7557495789140416,
          -0.8660254432786502,
          -0.9450008821809138,
          -0.9898214291886617,
          -0.9988673280835966,
          -0.9718115877851822,
          -0.9096319628842168,
          -0.8145758465071361,
          -0.6900791483946479,
          -0.5406408867293939,
          -0.3716624642116569,
          -0.18925115154595856
         ]
        }
       ],
       "layout": {
        "annotations": [
         {
          "showarrow": false,
          "text": "",
          "x": 0.005,
          "xref": "paper",
          "y": -0.002,
          "yref": "paper"
         },
         {
          "align": "center",
          "showarrow": false,
          "text": "Δ Block <br> utilization (%)",
          "x": 1,
          "y": 2.709302029433944e-9
         },
         {
          "align": "center",
          "showarrow": false,
          "text": "Δ Block <br> time",
          "x": 0.9819287062078889,
          "y": 0.1892512463715296
         },
         {
          "align": "center",
          "showarrow": false,
          "text": "Δ Throughput",
          "x": 0.9283679129229587,
          "y": 0.37166246963026095
         },
         {
          "align": "center",
          "showarrow": false,
          "text": "Δ Network <br> growth",
          "x": 0.8412535193987172,
          "y": 0.5406407729387086
         },
         {
          "align": "center",
          "showarrow": false,
          "text": "Δ Network <br> activeness (%)",
          "x": 0.7237340217793816,
          "y": 0.6900790346039627
         },
         {
          "align": "center",
          "showarrow": false,
          "text": "Δ Difficulty <br> adjustment",
          "x": 0.5800569066471808,
          "y": 0.8145759711350293
         },
         {
          "align": "center",
          "showarrow": false,
          "text": "Δ Energy <br> consumption",
          "x": 0.4154150796554208,
          "y": 0.9096319683028208
         },
         {
          "align": "center",
          "showarrow": false,
          "text": "Δ Non-zero balance <br> address",
          "x": 0.2357588873804272,
          "y": 0.9718115932037862
         },
         {
          "align": "center",
          "showarrow": false,
          "text": "Δ Mining <br> profitability (%)",
          "x": 0.04758189450339206,
          "y": 0.9988673335022006
         },
         {
          "align": "center",
          "showarrow": false,
          "text": "Δ Fee to <br> reward (%)",
          "x": -0.14231483393275582,
          "y": 0.9898214346072657
         },
         {
          "align": "center",
          "showarrow": false,
          "text": "Δ Transaction <br> fee",
          "x": -0.32706790877852815,
          "y": 0.9450008279948732
         },
         {
          "align": "center",
          "showarrow": false,
          "text": "Development <br> contributor",
          "x": -0.5000000563873486,
          "y": 0.8660253890926095
         },
         {
          "align": "center",
          "showarrow": false,
          "text": "Development <br> activity",
          "x": -0.6548606717854792,
          "y": 0.7557496439372903
         },
         {
          "align": "center",
          "showarrow": false,
          "text": "Δ Supply <br> deviation",
          "x": -0.7860530576544495,
          "y": 0.6181589974886291
         },
         {
          "align": "center",
          "showarrow": false,
          "text": "Δ Coin <br> age",
          "x": -0.888835485698613,
          "y": 0.45822644406350477
         },
         {
          "align": "center",
          "showarrow": false,
          "text": "Velocity",
          "x": -0.9594929772310223,
          "y": 0.2817325911114479
         },
         {
          "align": "center",
          "showarrow": false,
          "text": "Δ Market <br> capitalization",
          "x": -0.995471950065687,
          "y": 0.09505599987709341
         },
         {
          "align": "center",
          "showarrow": false,
          "text": "Δ MVRV (%)",
          "x": -0.995471950065687,
          "y": -0.09505593485384471
         },
         {
          "align": "center",
          "showarrow": false,
          "text": "Δ Trading <br> volume",
          "x": -0.9594929772310223,
          "y": -0.2817325558905215
         },
         {
          "align": "center",
          "showarrow": false,
          "text": "Δ Transaction <br> value",
          "x": -0.8888354260939685,
          "y": -0.45822658765651225
         },
         {
          "align": "center",
          "showarrow": false,
          "text": "Δ Whale <br> transaction",
          "x": -0.7860531768637388,
          "y": -0.6181589324653805
         },
         {
          "align": "center",
          "showarrow": false,
          "text": "Flow <br> balance",
          "x": -0.6548607313901239,
          "y": -0.7557495789140416
         },
         {
          "align": "center",
          "showarrow": false,
          "text": "Δ Withdrawal <br> transaction",
          "x": -0.4999999073757369,
          "y": -0.8660254432786502
         },
         {
          "align": "center",
          "showarrow": false,
          "text": "Δ Supply on <br> exchange",
          "x": -0.3270677597669165,
          "y": -0.9450008821809138
         },
         {
          "align": "center",
          "showarrow": false,
          "text": "Supply on <br> non-exchange <br> top holder",
          "x": -0.14231501274668976,
          "y": -0.9898214291886617
         },
         {
          "align": "center",
          "showarrow": false,
          "text": "Weighted <br> sentiment",
          "x": 0.04758183117345712,
          "y": -0.9988673280835966
         },
         {
          "align": "center",
          "showarrow": false,
          "text": "Social <br> volume",
          "x": 0.23575894698507183,
          "y": -0.9718115877851822
         },
         {
          "align": "center",
          "showarrow": false,
          "text": "NFT transaction <br> count",
          "x": 0.4154151094577431,
          "y": -0.9096319628842168
         },
         {
          "align": "center",
          "showarrow": false,
          "text": "NFT trading <br> volume",
          "x": 0.5800570854611148,
          "y": -0.8145758465071361
         },
         {
          "align": "center",
          "showarrow": false,
          "text": "Log <br> return (%)",
          "x": 0.7237339025700923,
          "y": -0.6900791483946479
         },
         {
          "align": "center",
          "showarrow": false,
          "text": "𝜆(1,t)",
          "x": 0.8412534597940725,
          "y": -0.5406408867293939
         },
         {
          "align": "center",
          "showarrow": false,
          "text": "𝜆(2,t)",
          "x": 0.9283679129229587,
          "y": -0.3716624642116569
         },
         {
          "align": "center",
          "showarrow": false,
          "text": "σ(t|t-2)",
          "x": 0.9819287062078889,
          "y": -0.18925115154595856
         }
        ],
        "font": {
         "color": "black",
         "family": "Times New Roman",
         "size": 14
        },
        "height": 1200,
        "hovermode": "closest",
        "margin": {
         "b": 20,
         "l": 5,
         "r": 5,
         "t": 40
        },
        "paper_bgcolor": "rgba(0,0,0,0)",
        "plot_bgcolor": "rgba(0,0,0,0)",
        "showlegend": false,
        "template": {
         "data": {
          "bar": [
           {
            "error_x": {
             "color": "#2a3f5f"
            },
            "error_y": {
             "color": "#2a3f5f"
            },
            "marker": {
             "line": {
              "color": "#E5ECF6",
              "width": 0.5
             },
             "pattern": {
              "fillmode": "overlay",
              "size": 10,
              "solidity": 0.2
             }
            },
            "type": "bar"
           }
          ],
          "barpolar": [
           {
            "marker": {
             "line": {
              "color": "#E5ECF6",
              "width": 0.5
             },
             "pattern": {
              "fillmode": "overlay",
              "size": 10,
              "solidity": 0.2
             }
            },
            "type": "barpolar"
           }
          ],
          "carpet": [
           {
            "aaxis": {
             "endlinecolor": "#2a3f5f",
             "gridcolor": "white",
             "linecolor": "white",
             "minorgridcolor": "white",
             "startlinecolor": "#2a3f5f"
            },
            "baxis": {
             "endlinecolor": "#2a3f5f",
             "gridcolor": "white",
             "linecolor": "white",
             "minorgridcolor": "white",
             "startlinecolor": "#2a3f5f"
            },
            "type": "carpet"
           }
          ],
          "choropleth": [
           {
            "colorbar": {
             "outlinewidth": 0,
             "ticks": ""
            },
            "type": "choropleth"
           }
          ],
          "contour": [
           {
            "colorbar": {
             "outlinewidth": 0,
             "ticks": ""
            },
            "colorscale": [
             [
              0,
              "#0d0887"
             ],
             [
              0.1111111111111111,
              "#46039f"
             ],
             [
              0.2222222222222222,
              "#7201a8"
             ],
             [
              0.3333333333333333,
              "#9c179e"
             ],
             [
              0.4444444444444444,
              "#bd3786"
             ],
             [
              0.5555555555555556,
              "#d8576b"
             ],
             [
              0.6666666666666666,
              "#ed7953"
             ],
             [
              0.7777777777777778,
              "#fb9f3a"
             ],
             [
              0.8888888888888888,
              "#fdca26"
             ],
             [
              1,
              "#f0f921"
             ]
            ],
            "type": "contour"
           }
          ],
          "contourcarpet": [
           {
            "colorbar": {
             "outlinewidth": 0,
             "ticks": ""
            },
            "type": "contourcarpet"
           }
          ],
          "heatmap": [
           {
            "colorbar": {
             "outlinewidth": 0,
             "ticks": ""
            },
            "colorscale": [
             [
              0,
              "#0d0887"
             ],
             [
              0.1111111111111111,
              "#46039f"
             ],
             [
              0.2222222222222222,
              "#7201a8"
             ],
             [
              0.3333333333333333,
              "#9c179e"
             ],
             [
              0.4444444444444444,
              "#bd3786"
             ],
             [
              0.5555555555555556,
              "#d8576b"
             ],
             [
              0.6666666666666666,
              "#ed7953"
             ],
             [
              0.7777777777777778,
              "#fb9f3a"
             ],
             [
              0.8888888888888888,
              "#fdca26"
             ],
             [
              1,
              "#f0f921"
             ]
            ],
            "type": "heatmap"
           }
          ],
          "heatmapgl": [
           {
            "colorbar": {
             "outlinewidth": 0,
             "ticks": ""
            },
            "colorscale": [
             [
              0,
              "#0d0887"
             ],
             [
              0.1111111111111111,
              "#46039f"
             ],
             [
              0.2222222222222222,
              "#7201a8"
             ],
             [
              0.3333333333333333,
              "#9c179e"
             ],
             [
              0.4444444444444444,
              "#bd3786"
             ],
             [
              0.5555555555555556,
              "#d8576b"
             ],
             [
              0.6666666666666666,
              "#ed7953"
             ],
             [
              0.7777777777777778,
              "#fb9f3a"
             ],
             [
              0.8888888888888888,
              "#fdca26"
             ],
             [
              1,
              "#f0f921"
             ]
            ],
            "type": "heatmapgl"
           }
          ],
          "histogram": [
           {
            "marker": {
             "pattern": {
              "fillmode": "overlay",
              "size": 10,
              "solidity": 0.2
             }
            },
            "type": "histogram"
           }
          ],
          "histogram2d": [
           {
            "colorbar": {
             "outlinewidth": 0,
             "ticks": ""
            },
            "colorscale": [
             [
              0,
              "#0d0887"
             ],
             [
              0.1111111111111111,
              "#46039f"
             ],
             [
              0.2222222222222222,
              "#7201a8"
             ],
             [
              0.3333333333333333,
              "#9c179e"
             ],
             [
              0.4444444444444444,
              "#bd3786"
             ],
             [
              0.5555555555555556,
              "#d8576b"
             ],
             [
              0.6666666666666666,
              "#ed7953"
             ],
             [
              0.7777777777777778,
              "#fb9f3a"
             ],
             [
              0.8888888888888888,
              "#fdca26"
             ],
             [
              1,
              "#f0f921"
             ]
            ],
            "type": "histogram2d"
           }
          ],
          "histogram2dcontour": [
           {
            "colorbar": {
             "outlinewidth": 0,
             "ticks": ""
            },
            "colorscale": [
             [
              0,
              "#0d0887"
             ],
             [
              0.1111111111111111,
              "#46039f"
             ],
             [
              0.2222222222222222,
              "#7201a8"
             ],
             [
              0.3333333333333333,
              "#9c179e"
             ],
             [
              0.4444444444444444,
              "#bd3786"
             ],
             [
              0.5555555555555556,
              "#d8576b"
             ],
             [
              0.6666666666666666,
              "#ed7953"
             ],
             [
              0.7777777777777778,
              "#fb9f3a"
             ],
             [
              0.8888888888888888,
              "#fdca26"
             ],
             [
              1,
              "#f0f921"
             ]
            ],
            "type": "histogram2dcontour"
           }
          ],
          "mesh3d": [
           {
            "colorbar": {
             "outlinewidth": 0,
             "ticks": ""
            },
            "type": "mesh3d"
           }
          ],
          "parcoords": [
           {
            "line": {
             "colorbar": {
              "outlinewidth": 0,
              "ticks": ""
             }
            },
            "type": "parcoords"
           }
          ],
          "pie": [
           {
            "automargin": true,
            "type": "pie"
           }
          ],
          "scatter": [
           {
            "fillpattern": {
             "fillmode": "overlay",
             "size": 10,
             "solidity": 0.2
            },
            "type": "scatter"
           }
          ],
          "scatter3d": [
           {
            "line": {
             "colorbar": {
              "outlinewidth": 0,
              "ticks": ""
             }
            },
            "marker": {
             "colorbar": {
              "outlinewidth": 0,
              "ticks": ""
             }
            },
            "type": "scatter3d"
           }
          ],
          "scattercarpet": [
           {
            "marker": {
             "colorbar": {
              "outlinewidth": 0,
              "ticks": ""
             }
            },
            "type": "scattercarpet"
           }
          ],
          "scattergeo": [
           {
            "marker": {
             "colorbar": {
              "outlinewidth": 0,
              "ticks": ""
             }
            },
            "type": "scattergeo"
           }
          ],
          "scattergl": [
           {
            "marker": {
             "colorbar": {
              "outlinewidth": 0,
              "ticks": ""
             }
            },
            "type": "scattergl"
           }
          ],
          "scattermapbox": [
           {
            "marker": {
             "colorbar": {
              "outlinewidth": 0,
              "ticks": ""
             }
            },
            "type": "scattermapbox"
           }
          ],
          "scatterpolar": [
           {
            "marker": {
             "colorbar": {
              "outlinewidth": 0,
              "ticks": ""
             }
            },
            "type": "scatterpolar"
           }
          ],
          "scatterpolargl": [
           {
            "marker": {
             "colorbar": {
              "outlinewidth": 0,
              "ticks": ""
             }
            },
            "type": "scatterpolargl"
           }
          ],
          "scatterternary": [
           {
            "marker": {
             "colorbar": {
              "outlinewidth": 0,
              "ticks": ""
             }
            },
            "type": "scatterternary"
           }
          ],
          "surface": [
           {
            "colorbar": {
             "outlinewidth": 0,
             "ticks": ""
            },
            "colorscale": [
             [
              0,
              "#0d0887"
             ],
             [
              0.1111111111111111,
              "#46039f"
             ],
             [
              0.2222222222222222,
              "#7201a8"
             ],
             [
              0.3333333333333333,
              "#9c179e"
             ],
             [
              0.4444444444444444,
              "#bd3786"
             ],
             [
              0.5555555555555556,
              "#d8576b"
             ],
             [
              0.6666666666666666,
              "#ed7953"
             ],
             [
              0.7777777777777778,
              "#fb9f3a"
             ],
             [
              0.8888888888888888,
              "#fdca26"
             ],
             [
              1,
              "#f0f921"
             ]
            ],
            "type": "surface"
           }
          ],
          "table": [
           {
            "cells": {
             "fill": {
              "color": "#EBF0F8"
             },
             "line": {
              "color": "white"
             }
            },
            "header": {
             "fill": {
              "color": "#C8D4E3"
             },
             "line": {
              "color": "white"
             }
            },
            "type": "table"
           }
          ]
         },
         "layout": {
          "annotationdefaults": {
           "arrowcolor": "#2a3f5f",
           "arrowhead": 0,
           "arrowwidth": 1
          },
          "autotypenumbers": "strict",
          "coloraxis": {
           "colorbar": {
            "outlinewidth": 0,
            "ticks": ""
           }
          },
          "colorscale": {
           "diverging": [
            [
             0,
             "#8e0152"
            ],
            [
             0.1,
             "#c51b7d"
            ],
            [
             0.2,
             "#de77ae"
            ],
            [
             0.3,
             "#f1b6da"
            ],
            [
             0.4,
             "#fde0ef"
            ],
            [
             0.5,
             "#f7f7f7"
            ],
            [
             0.6,
             "#e6f5d0"
            ],
            [
             0.7,
             "#b8e186"
            ],
            [
             0.8,
             "#7fbc41"
            ],
            [
             0.9,
             "#4d9221"
            ],
            [
             1,
             "#276419"
            ]
           ],
           "sequential": [
            [
             0,
             "#0d0887"
            ],
            [
             0.1111111111111111,
             "#46039f"
            ],
            [
             0.2222222222222222,
             "#7201a8"
            ],
            [
             0.3333333333333333,
             "#9c179e"
            ],
            [
             0.4444444444444444,
             "#bd3786"
            ],
            [
             0.5555555555555556,
             "#d8576b"
            ],
            [
             0.6666666666666666,
             "#ed7953"
            ],
            [
             0.7777777777777778,
             "#fb9f3a"
            ],
            [
             0.8888888888888888,
             "#fdca26"
            ],
            [
             1,
             "#f0f921"
            ]
           ],
           "sequentialminus": [
            [
             0,
             "#0d0887"
            ],
            [
             0.1111111111111111,
             "#46039f"
            ],
            [
             0.2222222222222222,
             "#7201a8"
            ],
            [
             0.3333333333333333,
             "#9c179e"
            ],
            [
             0.4444444444444444,
             "#bd3786"
            ],
            [
             0.5555555555555556,
             "#d8576b"
            ],
            [
             0.6666666666666666,
             "#ed7953"
            ],
            [
             0.7777777777777778,
             "#fb9f3a"
            ],
            [
             0.8888888888888888,
             "#fdca26"
            ],
            [
             1,
             "#f0f921"
            ]
           ]
          },
          "colorway": [
           "#636efa",
           "#EF553B",
           "#00cc96",
           "#ab63fa",
           "#FFA15A",
           "#19d3f3",
           "#FF6692",
           "#B6E880",
           "#FF97FF",
           "#FECB52"
          ],
          "font": {
           "color": "#2a3f5f"
          },
          "geo": {
           "bgcolor": "white",
           "lakecolor": "white",
           "landcolor": "#E5ECF6",
           "showlakes": true,
           "showland": true,
           "subunitcolor": "white"
          },
          "hoverlabel": {
           "align": "left"
          },
          "hovermode": "closest",
          "mapbox": {
           "style": "light"
          },
          "paper_bgcolor": "white",
          "plot_bgcolor": "#E5ECF6",
          "polar": {
           "angularaxis": {
            "gridcolor": "white",
            "linecolor": "white",
            "ticks": ""
           },
           "bgcolor": "#E5ECF6",
           "radialaxis": {
            "gridcolor": "white",
            "linecolor": "white",
            "ticks": ""
           }
          },
          "scene": {
           "xaxis": {
            "backgroundcolor": "#E5ECF6",
            "gridcolor": "white",
            "gridwidth": 2,
            "linecolor": "white",
            "showbackground": true,
            "ticks": "",
            "zerolinecolor": "white"
           },
           "yaxis": {
            "backgroundcolor": "#E5ECF6",
            "gridcolor": "white",
            "gridwidth": 2,
            "linecolor": "white",
            "showbackground": true,
            "ticks": "",
            "zerolinecolor": "white"
           },
           "zaxis": {
            "backgroundcolor": "#E5ECF6",
            "gridcolor": "white",
            "gridwidth": 2,
            "linecolor": "white",
            "showbackground": true,
            "ticks": "",
            "zerolinecolor": "white"
           }
          },
          "shapedefaults": {
           "line": {
            "color": "#2a3f5f"
           }
          },
          "ternary": {
           "aaxis": {
            "gridcolor": "white",
            "linecolor": "white",
            "ticks": ""
           },
           "baxis": {
            "gridcolor": "white",
            "linecolor": "white",
            "ticks": ""
           },
           "bgcolor": "#E5ECF6",
           "caxis": {
            "gridcolor": "white",
            "linecolor": "white",
            "ticks": ""
           }
          },
          "title": {
           "x": 0.05
          },
          "xaxis": {
           "automargin": true,
           "gridcolor": "white",
           "linecolor": "white",
           "ticks": "",
           "title": {
            "standoff": 15
           },
           "zerolinecolor": "white",
           "zerolinewidth": 2
          },
          "yaxis": {
           "automargin": true,
           "gridcolor": "white",
           "linecolor": "white",
           "ticks": "",
           "title": {
            "standoff": 15
           },
           "zerolinecolor": "white",
           "zerolinewidth": 2
          }
         }
        },
        "title": {
         "text": ""
        },
        "width": 1200,
        "xaxis": {
         "showgrid": false,
         "showticklabels": false,
         "zeroline": false
        },
        "yaxis": {
         "showgrid": false,
         "showticklabels": false,
         "zeroline": false
        }
       }
      },
      "text/html": [
       "<div>                            <div id=\"9593e9f0-38e9-4981-90cd-6f417280d2dd\" class=\"plotly-graph-div\" style=\"height:1200px; width:1200px;\"></div>            <script type=\"text/javascript\">                require([\"plotly\"], function(Plotly) {                    window.PLOTLYENV=window.PLOTLYENV || {};                                    if (document.getElementById(\"9593e9f0-38e9-4981-90cd-6f417280d2dd\")) {                    Plotly.newPlot(                        \"9593e9f0-38e9-4981-90cd-6f417280d2dd\",                        [{\"hoverinfo\":\"none\",\"line\":{\"color\":\"blue\",\"width\":1},\"mode\":\"lines\",\"x\":[-0.995471950065687,-0.9594929772310223,null],\"y\":[-0.09505593485384471,-0.2817325558905215,null],\"type\":\"scatter\"},{\"hoverinfo\":\"text\",\"marker\":{\"color\":[\"rgba(0, 166, 166, 1)\",\"rgba(0, 166, 166, 1)\",\"rgba(0, 166, 166, 1)\",\"rgba(0, 166, 166, 1)\",\"rgba(0, 166, 166, 1)\",\"rgba(0, 166, 166, 1)\",\"rgba(0, 166, 166, 1)\",\"rgba(0, 166, 166, 1)\",\"rgba(0, 166, 166, 1)\",\"rgba(0, 166, 166, 1)\",\"rgba(0, 166, 166, 1)\",\"rgba(0, 166, 166, 1)\",\"rgba(0, 166, 166, 1)\",\"rgba(202, 144, 126, 1)\",\"rgba(202, 144, 126, 1)\",\"rgba(202, 144, 126, 1)\",\"rgba(202, 144, 126, 1)\",\"rgba(202, 144, 126, 1)\",\"rgba(202, 144, 126, 1)\",\"rgba(202, 144, 126, 1)\",\"rgba(202, 144, 126, 1)\",\"rgba(202, 144, 126, 1)\",\"rgba(202, 144, 126, 1)\",\"rgba(202, 144, 126, 1)\",\"rgba(202, 144, 126, 1)\",\"rgba(202, 144, 126, 1)\",\"rgba(202, 144, 126, 1)\",\"rgba(202, 144, 126, 1)\",\"rgba(202, 144, 126, 1)\",\"rgba(239, 202, 8, 1)\",\"rgba(239, 202, 8, 1)\",\"rgba(239, 202, 8, 1)\",\"rgba(239, 202, 8, 1)\",0,0,0,0,0,0,0,0,0,0,0,0,0,0,0,0,0,1,1,0,0,0,0,0,0,0,0,0,0,0,0,0,0],\"line\":{\"width\":0},\"opacity\":1,\"showscale\":false,\"size\":[30,30,30,30,30,30,30,30,30,30,30,30,30,30,30,30,30,33,33,30,30,30,30,30,30,30,30,30,30,30,30,30,30]},\"mode\":\"markers\",\"text\":[\"Name: Block utilization (%)<br># of connections: 0\",\"Name: Block time<br># of connections: 0\",\"Name: Throughput<br># of connections: 0\",\"Name: Network growth<br># of connections: 0\",\"Name: Network activeness (%)<br># of connections: 0\",\"Name: Difficulty adjustment<br># of connections: 0\",\"Name: Energy consumption<br># of connections: 0\",\"Name: Non-zero balance address<br># of connections: 0\",\"Name: Mining profitability (%)<br># of connections: 0\",\"Name: Fee to reward (%)<br># of connections: 0\",\"Name: Transaction fee<br># of connections: 0\",\"Name: Development contributor<br># of connections: 0\",\"Name: Development activity<br># of connections: 0\",\"Name: Supply deviation<br># of connections: 0\",\"Name: Coin age<br># of connections: 0\",\"Name: Velocity<br># of connections: 0\",\"Name: Market capitalization<br># of connections: 0\",\"Name: MVRV (%)<br># of connections: 1\",\"Name: Trading volume<br># of connections: 1\",\"Name: Transaction value<br># of connections: 0\",\"Name: Whale transaction<br># of connections: 0\",\"Name: Flow balance<br># of connections: 0\",\"Name: Withdrawal transaction<br># of connections: 0\",\"Name: Supply on exchange<br># of connections: 0\",\"Name: Supply on non-exchange top holder<br># of connections: 0\",\"Name: Weighted sentiment<br># of connections: 0\",\"Name: Social volume<br># of connections: 0\",\"Name: NFT transaction count<br># of connections: 0\",\"Name: NFT trading volume<br># of connections: 0\",\"Name: Log return (%)<br># of connections: 0\",\"Name: \\ud835\\udf06(1,t)<br># of connections: 0\",\"Name: \\ud835\\udf06(2,t)<br># of connections: 0\",\"Name: \\u03c3(t|t-2)<br># of connections: 0\"],\"x\":[1.0,0.9819287062078889,0.9283679129229587,0.8412535193987172,0.7237340217793816,0.5800569066471808,0.4154150796554208,0.2357588873804272,0.04758189450339206,-0.14231483393275582,-0.32706790877852815,-0.5000000563873486,-0.6548606717854792,-0.7860530576544495,-0.888835485698613,-0.9594929772310223,-0.995471950065687,-0.995471950065687,-0.9594929772310223,-0.8888354260939685,-0.7860531768637388,-0.6548607313901239,-0.4999999073757369,-0.3270677597669165,-0.14231501274668976,0.04758183117345712,0.23575894698507183,0.4154151094577431,0.5800570854611148,0.7237339025700923,0.8412534597940725,0.9283679129229587,0.9819287062078889],\"y\":[2.709302029433944e-09,0.1892512463715296,0.37166246963026095,0.5406407729387086,0.6900790346039627,0.8145759711350293,0.9096319683028208,0.9718115932037862,0.9988673335022006,0.9898214346072657,0.9450008279948732,0.8660253890926095,0.7557496439372903,0.6181589974886291,0.45822644406350477,0.2817325911114479,0.09505599987709341,-0.09505593485384471,-0.2817325558905215,-0.45822658765651225,-0.6181589324653805,-0.7557495789140416,-0.8660254432786502,-0.9450008821809138,-0.9898214291886617,-0.9988673280835966,-0.9718115877851822,-0.9096319628842168,-0.8145758465071361,-0.6900791483946479,-0.5406408867293939,-0.3716624642116569,-0.18925115154595856],\"type\":\"scatter\"}],                        {\"annotations\":[{\"showarrow\":false,\"text\":\"\",\"x\":0.005,\"xref\":\"paper\",\"y\":-0.002,\"yref\":\"paper\"},{\"align\":\"center\",\"showarrow\":false,\"text\":\"\\u0394 Block <br> utilization (%)\",\"x\":1.0,\"y\":2.709302029433944e-09},{\"align\":\"center\",\"showarrow\":false,\"text\":\"\\u0394 Block <br> time\",\"x\":0.9819287062078889,\"y\":0.1892512463715296},{\"align\":\"center\",\"showarrow\":false,\"text\":\"\\u0394 Throughput\",\"x\":0.9283679129229587,\"y\":0.37166246963026095},{\"align\":\"center\",\"showarrow\":false,\"text\":\"\\u0394 Network <br> growth\",\"x\":0.8412535193987172,\"y\":0.5406407729387086},{\"align\":\"center\",\"showarrow\":false,\"text\":\"\\u0394 Network <br> activeness (%)\",\"x\":0.7237340217793816,\"y\":0.6900790346039627},{\"align\":\"center\",\"showarrow\":false,\"text\":\"\\u0394 Difficulty <br> adjustment\",\"x\":0.5800569066471808,\"y\":0.8145759711350293},{\"align\":\"center\",\"showarrow\":false,\"text\":\"\\u0394 Energy <br> consumption\",\"x\":0.4154150796554208,\"y\":0.9096319683028208},{\"align\":\"center\",\"showarrow\":false,\"text\":\"\\u0394 Non-zero balance <br> address\",\"x\":0.2357588873804272,\"y\":0.9718115932037862},{\"align\":\"center\",\"showarrow\":false,\"text\":\"\\u0394 Mining <br> profitability (%)\",\"x\":0.04758189450339206,\"y\":0.9988673335022006},{\"align\":\"center\",\"showarrow\":false,\"text\":\"\\u0394 Fee to <br> reward (%)\",\"x\":-0.14231483393275582,\"y\":0.9898214346072657},{\"align\":\"center\",\"showarrow\":false,\"text\":\"\\u0394 Transaction <br> fee\",\"x\":-0.32706790877852815,\"y\":0.9450008279948732},{\"align\":\"center\",\"showarrow\":false,\"text\":\"Development <br> contributor\",\"x\":-0.5000000563873486,\"y\":0.8660253890926095},{\"align\":\"center\",\"showarrow\":false,\"text\":\"Development <br> activity\",\"x\":-0.6548606717854792,\"y\":0.7557496439372903},{\"align\":\"center\",\"showarrow\":false,\"text\":\"\\u0394 Supply <br> deviation\",\"x\":-0.7860530576544495,\"y\":0.6181589974886291},{\"align\":\"center\",\"showarrow\":false,\"text\":\"\\u0394 Coin <br> age\",\"x\":-0.888835485698613,\"y\":0.45822644406350477},{\"align\":\"center\",\"showarrow\":false,\"text\":\"Velocity\",\"x\":-0.9594929772310223,\"y\":0.2817325911114479},{\"align\":\"center\",\"showarrow\":false,\"text\":\"\\u0394 Market <br> capitalization\",\"x\":-0.995471950065687,\"y\":0.09505599987709341},{\"align\":\"center\",\"showarrow\":false,\"text\":\"\\u0394 MVRV (%)\",\"x\":-0.995471950065687,\"y\":-0.09505593485384471},{\"align\":\"center\",\"showarrow\":false,\"text\":\"\\u0394 Trading <br> volume\",\"x\":-0.9594929772310223,\"y\":-0.2817325558905215},{\"align\":\"center\",\"showarrow\":false,\"text\":\"\\u0394 Transaction <br> value\",\"x\":-0.8888354260939685,\"y\":-0.45822658765651225},{\"align\":\"center\",\"showarrow\":false,\"text\":\"\\u0394 Whale <br> transaction\",\"x\":-0.7860531768637388,\"y\":-0.6181589324653805},{\"align\":\"center\",\"showarrow\":false,\"text\":\"Flow <br> balance\",\"x\":-0.6548607313901239,\"y\":-0.7557495789140416},{\"align\":\"center\",\"showarrow\":false,\"text\":\"\\u0394 Withdrawal <br> transaction\",\"x\":-0.4999999073757369,\"y\":-0.8660254432786502},{\"align\":\"center\",\"showarrow\":false,\"text\":\"\\u0394 Supply on <br> exchange\",\"x\":-0.3270677597669165,\"y\":-0.9450008821809138},{\"align\":\"center\",\"showarrow\":false,\"text\":\"Supply on <br> non-exchange <br> top holder\",\"x\":-0.14231501274668976,\"y\":-0.9898214291886617},{\"align\":\"center\",\"showarrow\":false,\"text\":\"Weighted <br> sentiment\",\"x\":0.04758183117345712,\"y\":-0.9988673280835966},{\"align\":\"center\",\"showarrow\":false,\"text\":\"Social <br> volume\",\"x\":0.23575894698507183,\"y\":-0.9718115877851822},{\"align\":\"center\",\"showarrow\":false,\"text\":\"NFT transaction <br> count\",\"x\":0.4154151094577431,\"y\":-0.9096319628842168},{\"align\":\"center\",\"showarrow\":false,\"text\":\"NFT trading <br> volume\",\"x\":0.5800570854611148,\"y\":-0.8145758465071361},{\"align\":\"center\",\"showarrow\":false,\"text\":\"Log <br> return (%)\",\"x\":0.7237339025700923,\"y\":-0.6900791483946479},{\"align\":\"center\",\"showarrow\":false,\"text\":\"\\ud835\\udf06(1,t)\",\"x\":0.8412534597940725,\"y\":-0.5406408867293939},{\"align\":\"center\",\"showarrow\":false,\"text\":\"\\ud835\\udf06(2,t)\",\"x\":0.9283679129229587,\"y\":-0.3716624642116569},{\"align\":\"center\",\"showarrow\":false,\"text\":\"\\u03c3(t|t-2)\",\"x\":0.9819287062078889,\"y\":-0.18925115154595856}],\"height\":1200,\"hovermode\":\"closest\",\"margin\":{\"b\":20,\"l\":5,\"r\":5,\"t\":40},\"showlegend\":false,\"title\":{\"text\":\"\"},\"width\":1200,\"xaxis\":{\"showgrid\":false,\"showticklabels\":false,\"zeroline\":false},\"yaxis\":{\"showgrid\":false,\"showticklabels\":false,\"zeroline\":false},\"template\":{\"data\":{\"histogram2dcontour\":[{\"type\":\"histogram2dcontour\",\"colorbar\":{\"outlinewidth\":0,\"ticks\":\"\"},\"colorscale\":[[0.0,\"#0d0887\"],[0.1111111111111111,\"#46039f\"],[0.2222222222222222,\"#7201a8\"],[0.3333333333333333,\"#9c179e\"],[0.4444444444444444,\"#bd3786\"],[0.5555555555555556,\"#d8576b\"],[0.6666666666666666,\"#ed7953\"],[0.7777777777777778,\"#fb9f3a\"],[0.8888888888888888,\"#fdca26\"],[1.0,\"#f0f921\"]]}],\"choropleth\":[{\"type\":\"choropleth\",\"colorbar\":{\"outlinewidth\":0,\"ticks\":\"\"}}],\"histogram2d\":[{\"type\":\"histogram2d\",\"colorbar\":{\"outlinewidth\":0,\"ticks\":\"\"},\"colorscale\":[[0.0,\"#0d0887\"],[0.1111111111111111,\"#46039f\"],[0.2222222222222222,\"#7201a8\"],[0.3333333333333333,\"#9c179e\"],[0.4444444444444444,\"#bd3786\"],[0.5555555555555556,\"#d8576b\"],[0.6666666666666666,\"#ed7953\"],[0.7777777777777778,\"#fb9f3a\"],[0.8888888888888888,\"#fdca26\"],[1.0,\"#f0f921\"]]}],\"heatmap\":[{\"type\":\"heatmap\",\"colorbar\":{\"outlinewidth\":0,\"ticks\":\"\"},\"colorscale\":[[0.0,\"#0d0887\"],[0.1111111111111111,\"#46039f\"],[0.2222222222222222,\"#7201a8\"],[0.3333333333333333,\"#9c179e\"],[0.4444444444444444,\"#bd3786\"],[0.5555555555555556,\"#d8576b\"],[0.6666666666666666,\"#ed7953\"],[0.7777777777777778,\"#fb9f3a\"],[0.8888888888888888,\"#fdca26\"],[1.0,\"#f0f921\"]]}],\"heatmapgl\":[{\"type\":\"heatmapgl\",\"colorbar\":{\"outlinewidth\":0,\"ticks\":\"\"},\"colorscale\":[[0.0,\"#0d0887\"],[0.1111111111111111,\"#46039f\"],[0.2222222222222222,\"#7201a8\"],[0.3333333333333333,\"#9c179e\"],[0.4444444444444444,\"#bd3786\"],[0.5555555555555556,\"#d8576b\"],[0.6666666666666666,\"#ed7953\"],[0.7777777777777778,\"#fb9f3a\"],[0.8888888888888888,\"#fdca26\"],[1.0,\"#f0f921\"]]}],\"contourcarpet\":[{\"type\":\"contourcarpet\",\"colorbar\":{\"outlinewidth\":0,\"ticks\":\"\"}}],\"contour\":[{\"type\":\"contour\",\"colorbar\":{\"outlinewidth\":0,\"ticks\":\"\"},\"colorscale\":[[0.0,\"#0d0887\"],[0.1111111111111111,\"#46039f\"],[0.2222222222222222,\"#7201a8\"],[0.3333333333333333,\"#9c179e\"],[0.4444444444444444,\"#bd3786\"],[0.5555555555555556,\"#d8576b\"],[0.6666666666666666,\"#ed7953\"],[0.7777777777777778,\"#fb9f3a\"],[0.8888888888888888,\"#fdca26\"],[1.0,\"#f0f921\"]]}],\"surface\":[{\"type\":\"surface\",\"colorbar\":{\"outlinewidth\":0,\"ticks\":\"\"},\"colorscale\":[[0.0,\"#0d0887\"],[0.1111111111111111,\"#46039f\"],[0.2222222222222222,\"#7201a8\"],[0.3333333333333333,\"#9c179e\"],[0.4444444444444444,\"#bd3786\"],[0.5555555555555556,\"#d8576b\"],[0.6666666666666666,\"#ed7953\"],[0.7777777777777778,\"#fb9f3a\"],[0.8888888888888888,\"#fdca26\"],[1.0,\"#f0f921\"]]}],\"mesh3d\":[{\"type\":\"mesh3d\",\"colorbar\":{\"outlinewidth\":0,\"ticks\":\"\"}}],\"scatter\":[{\"fillpattern\":{\"fillmode\":\"overlay\",\"size\":10,\"solidity\":0.2},\"type\":\"scatter\"}],\"parcoords\":[{\"type\":\"parcoords\",\"line\":{\"colorbar\":{\"outlinewidth\":0,\"ticks\":\"\"}}}],\"scatterpolargl\":[{\"type\":\"scatterpolargl\",\"marker\":{\"colorbar\":{\"outlinewidth\":0,\"ticks\":\"\"}}}],\"bar\":[{\"error_x\":{\"color\":\"#2a3f5f\"},\"error_y\":{\"color\":\"#2a3f5f\"},\"marker\":{\"line\":{\"color\":\"#E5ECF6\",\"width\":0.5},\"pattern\":{\"fillmode\":\"overlay\",\"size\":10,\"solidity\":0.2}},\"type\":\"bar\"}],\"scattergeo\":[{\"type\":\"scattergeo\",\"marker\":{\"colorbar\":{\"outlinewidth\":0,\"ticks\":\"\"}}}],\"scatterpolar\":[{\"type\":\"scatterpolar\",\"marker\":{\"colorbar\":{\"outlinewidth\":0,\"ticks\":\"\"}}}],\"histogram\":[{\"marker\":{\"pattern\":{\"fillmode\":\"overlay\",\"size\":10,\"solidity\":0.2}},\"type\":\"histogram\"}],\"scattergl\":[{\"type\":\"scattergl\",\"marker\":{\"colorbar\":{\"outlinewidth\":0,\"ticks\":\"\"}}}],\"scatter3d\":[{\"type\":\"scatter3d\",\"line\":{\"colorbar\":{\"outlinewidth\":0,\"ticks\":\"\"}},\"marker\":{\"colorbar\":{\"outlinewidth\":0,\"ticks\":\"\"}}}],\"scattermapbox\":[{\"type\":\"scattermapbox\",\"marker\":{\"colorbar\":{\"outlinewidth\":0,\"ticks\":\"\"}}}],\"scatterternary\":[{\"type\":\"scatterternary\",\"marker\":{\"colorbar\":{\"outlinewidth\":0,\"ticks\":\"\"}}}],\"scattercarpet\":[{\"type\":\"scattercarpet\",\"marker\":{\"colorbar\":{\"outlinewidth\":0,\"ticks\":\"\"}}}],\"carpet\":[{\"aaxis\":{\"endlinecolor\":\"#2a3f5f\",\"gridcolor\":\"white\",\"linecolor\":\"white\",\"minorgridcolor\":\"white\",\"startlinecolor\":\"#2a3f5f\"},\"baxis\":{\"endlinecolor\":\"#2a3f5f\",\"gridcolor\":\"white\",\"linecolor\":\"white\",\"minorgridcolor\":\"white\",\"startlinecolor\":\"#2a3f5f\"},\"type\":\"carpet\"}],\"table\":[{\"cells\":{\"fill\":{\"color\":\"#EBF0F8\"},\"line\":{\"color\":\"white\"}},\"header\":{\"fill\":{\"color\":\"#C8D4E3\"},\"line\":{\"color\":\"white\"}},\"type\":\"table\"}],\"barpolar\":[{\"marker\":{\"line\":{\"color\":\"#E5ECF6\",\"width\":0.5},\"pattern\":{\"fillmode\":\"overlay\",\"size\":10,\"solidity\":0.2}},\"type\":\"barpolar\"}],\"pie\":[{\"automargin\":true,\"type\":\"pie\"}]},\"layout\":{\"autotypenumbers\":\"strict\",\"colorway\":[\"#636efa\",\"#EF553B\",\"#00cc96\",\"#ab63fa\",\"#FFA15A\",\"#19d3f3\",\"#FF6692\",\"#B6E880\",\"#FF97FF\",\"#FECB52\"],\"font\":{\"color\":\"#2a3f5f\"},\"hovermode\":\"closest\",\"hoverlabel\":{\"align\":\"left\"},\"paper_bgcolor\":\"white\",\"plot_bgcolor\":\"#E5ECF6\",\"polar\":{\"bgcolor\":\"#E5ECF6\",\"angularaxis\":{\"gridcolor\":\"white\",\"linecolor\":\"white\",\"ticks\":\"\"},\"radialaxis\":{\"gridcolor\":\"white\",\"linecolor\":\"white\",\"ticks\":\"\"}},\"ternary\":{\"bgcolor\":\"#E5ECF6\",\"aaxis\":{\"gridcolor\":\"white\",\"linecolor\":\"white\",\"ticks\":\"\"},\"baxis\":{\"gridcolor\":\"white\",\"linecolor\":\"white\",\"ticks\":\"\"},\"caxis\":{\"gridcolor\":\"white\",\"linecolor\":\"white\",\"ticks\":\"\"}},\"coloraxis\":{\"colorbar\":{\"outlinewidth\":0,\"ticks\":\"\"}},\"colorscale\":{\"sequential\":[[0.0,\"#0d0887\"],[0.1111111111111111,\"#46039f\"],[0.2222222222222222,\"#7201a8\"],[0.3333333333333333,\"#9c179e\"],[0.4444444444444444,\"#bd3786\"],[0.5555555555555556,\"#d8576b\"],[0.6666666666666666,\"#ed7953\"],[0.7777777777777778,\"#fb9f3a\"],[0.8888888888888888,\"#fdca26\"],[1.0,\"#f0f921\"]],\"sequentialminus\":[[0.0,\"#0d0887\"],[0.1111111111111111,\"#46039f\"],[0.2222222222222222,\"#7201a8\"],[0.3333333333333333,\"#9c179e\"],[0.4444444444444444,\"#bd3786\"],[0.5555555555555556,\"#d8576b\"],[0.6666666666666666,\"#ed7953\"],[0.7777777777777778,\"#fb9f3a\"],[0.8888888888888888,\"#fdca26\"],[1.0,\"#f0f921\"]],\"diverging\":[[0,\"#8e0152\"],[0.1,\"#c51b7d\"],[0.2,\"#de77ae\"],[0.3,\"#f1b6da\"],[0.4,\"#fde0ef\"],[0.5,\"#f7f7f7\"],[0.6,\"#e6f5d0\"],[0.7,\"#b8e186\"],[0.8,\"#7fbc41\"],[0.9,\"#4d9221\"],[1,\"#276419\"]]},\"xaxis\":{\"gridcolor\":\"white\",\"linecolor\":\"white\",\"ticks\":\"\",\"title\":{\"standoff\":15},\"zerolinecolor\":\"white\",\"automargin\":true,\"zerolinewidth\":2},\"yaxis\":{\"gridcolor\":\"white\",\"linecolor\":\"white\",\"ticks\":\"\",\"title\":{\"standoff\":15},\"zerolinecolor\":\"white\",\"automargin\":true,\"zerolinewidth\":2},\"scene\":{\"xaxis\":{\"backgroundcolor\":\"#E5ECF6\",\"gridcolor\":\"white\",\"linecolor\":\"white\",\"showbackground\":true,\"ticks\":\"\",\"zerolinecolor\":\"white\",\"gridwidth\":2},\"yaxis\":{\"backgroundcolor\":\"#E5ECF6\",\"gridcolor\":\"white\",\"linecolor\":\"white\",\"showbackground\":true,\"ticks\":\"\",\"zerolinecolor\":\"white\",\"gridwidth\":2},\"zaxis\":{\"backgroundcolor\":\"#E5ECF6\",\"gridcolor\":\"white\",\"linecolor\":\"white\",\"showbackground\":true,\"ticks\":\"\",\"zerolinecolor\":\"white\",\"gridwidth\":2}},\"shapedefaults\":{\"line\":{\"color\":\"#2a3f5f\"}},\"annotationdefaults\":{\"arrowcolor\":\"#2a3f5f\",\"arrowhead\":0,\"arrowwidth\":1},\"geo\":{\"bgcolor\":\"white\",\"landcolor\":\"#E5ECF6\",\"subunitcolor\":\"white\",\"showland\":true,\"showlakes\":true,\"lakecolor\":\"white\"},\"title\":{\"x\":0.05},\"mapbox\":{\"style\":\"light\"}}},\"font\":{\"family\":\"Times New Roman\",\"size\":14,\"color\":\"black\"},\"plot_bgcolor\":\"rgba(0,0,0,0)\",\"paper_bgcolor\":\"rgba(0,0,0,0)\"},                        {\"responsive\": true}                    ).then(function(){\n",
       "                            \n",
       "var gd = document.getElementById('9593e9f0-38e9-4981-90cd-6f417280d2dd');\n",
       "var x = new MutationObserver(function (mutations, observer) {{\n",
       "        var display = window.getComputedStyle(gd).display;\n",
       "        if (!display || display === 'none') {{\n",
       "            console.log([gd, 'removed!']);\n",
       "            Plotly.purge(gd);\n",
       "            observer.disconnect();\n",
       "        }}\n",
       "}});\n",
       "\n",
       "// Listen for the removal of the full notebook cells\n",
       "var notebookContainer = gd.closest('#notebook-container');\n",
       "if (notebookContainer) {{\n",
       "    x.observe(notebookContainer, {childList: true});\n",
       "}}\n",
       "\n",
       "// Listen for the clearing of the current output cell\n",
       "var outputEl = gd.closest('.output');\n",
       "if (outputEl) {{\n",
       "    x.observe(outputEl, {childList: true});\n",
       "}}\n",
       "\n",
       "                        })                };                });            </script>        </div>"
      ]
     },
     "metadata": {},
     "output_type": "display_data"
    }
   ],
   "source": [
    "import networkx as nx\n",
    "import nxviz as nv\n",
    "\n",
    "import plotly.graph_objs as go\n",
    "import networkx as nx\n",
    "\n",
    "#create graph G\n",
    "Ｇ = nx.from_pandas_adjacency(adj_matrix_sig)\n",
    "# Ｇ = nx.from_pandas_adjacency(all_matrix)\n",
    "# Ｇ = nx.from_pandas_adjacency(fun_matrix)\n",
    "\n",
    "# adjust node size according to degree, etc\n",
    "d = nx.degree(G)\n",
    "node_sizes = []\n",
    "for i in d:\n",
    "    _, value = i\n",
    "    node_sizes.append(3*value+30)\n",
    "\n",
    "#get a x,y position for each node  \n",
    "pos = nx.circular_layout(G)\n",
    "\n",
    "#add a pos attribute to each node\n",
    "for node in G.nodes:\n",
    "    G.nodes[node]['pos'] = list(pos[node])\n",
    "\n",
    "pos=nx.get_node_attributes(G,'pos')\n",
    "\n",
    "dmin=1\n",
    "ncenter=0\n",
    "for n in pos:\n",
    "    x,y=pos[n]\n",
    "    d=(x-0.5)**2+(y-0.5)**2\n",
    "    if d<dmin:\n",
    "        ncenter=n\n",
    "        dmin=d\n",
    "\n",
    "p=nx.single_source_shortest_path_length(G,ncenter)\n",
    "\n",
    "#Create Edges\n",
    "edge_trace = go.Scatter(\n",
    "    x=[],\n",
    "    y=[],\n",
    "    line=dict(width=1,color='blue'),\n",
    "    hoverinfo='none',\n",
    "    mode='lines')\n",
    "\n",
    "for edge in G.edges():\n",
    "    x0, y0 = G.nodes[edge[0]]['pos']\n",
    "    x1, y1 = G.nodes[edge[1]]['pos']\n",
    "    edge_trace['x'] += tuple([x0, x1, None])\n",
    "    edge_trace['y'] += tuple([y0, y1, None])\n",
    "    \n",
    "\n",
    "colors = ['rgba(0, 166, 166, 1)']*13 + ['rgba(202, 144, 126, 1)']*16 + ['rgba(239, 202, 8, 1)']*4\n",
    "node_trace = go.Scatter(\n",
    "    x=[],\n",
    "    y=[],\n",
    "    text=[],\n",
    "    mode='markers',\n",
    "    hoverinfo='text',\n",
    "    marker=dict(opacity = 1,\n",
    "        showscale=False,\n",
    "        color=colors,\n",
    "        size=node_sizes,\n",
    "        line=dict(width=0)))\n",
    "\n",
    "for node in G.nodes():\n",
    "    x, y = G.nodes[node]['pos']\n",
    "    node_trace['x'] += tuple([x])\n",
    "    node_trace['y'] += tuple([y])\n",
    "\n",
    "#add color to node points\n",
    "connection_list = []\n",
    "for node, adjacencies in enumerate(G.adjacency()):\n",
    "    node_trace['marker']['color']+=tuple([len(adjacencies[1])])\n",
    "    node_info = 'Name: ' + str(adjacencies[0]) + '<br># of connections: '+str(len(adjacencies[1]))\n",
    "    connection_list.append(len(adjacencies[1]))\n",
    "    node_trace['text']+=tuple([node_info])\n",
    "    \n",
    "fig = go.Figure(data=[edge_trace, node_trace],\n",
    "                layout=go.Layout(\n",
    "                title='',\n",
    "                titlefont=dict(size=16),\n",
    "                showlegend=False,\n",
    "                hovermode='closest',\n",
    "                width=880,\n",
    "                height=800,\n",
    "                margin=dict(b=20,l=5,r=5,t=40),\n",
    "                annotations=[ dict(\n",
    "                    text='',\n",
    "                    showarrow=False,\n",
    "                    xref=\"paper\", yref=\"paper\",\n",
    "                    x=0.005, y=-0.002 ) ],\n",
    "                xaxis=dict(showgrid=False, zeroline=False, showticklabels=False),\n",
    "                yaxis=dict(showgrid=False, zeroline=False, showticklabels=False)\n",
    "              )\n",
    "             )\n",
    "\n",
    "fig['layout'].update(height=1200, width=1200,\n",
    "                    title='',\n",
    "                    showlegend=False,\n",
    "                    font=dict(family='Times New Roman', size=14))\n",
    "\n",
    "fig.update_layout({'plot_bgcolor': 'rgba(0,0,0,0)',\n",
    "                    'paper_bgcolor': 'rgba(0,0,0,0)'},\n",
    "                    font_color='black')\n",
    "\n",
    "node_names =  ['\\u0394 Block <br> utilization (%)', \n",
    "               '\\u0394 Block <br> time', \n",
    "               '\\u0394 Throughput',\n",
    "                       '\\u0394 Network <br> growth', \n",
    "                       '\\u0394 Network <br> activeness (%)',\n",
    "                       '\\u0394 Difficulty <br> adjustment', \n",
    "                       '\\u0394 Energy <br> consumption', \n",
    "                       '\\u0394 Non-zero balance <br> address',\n",
    "                       '\\u0394 Mining <br> profitability (%)',\n",
    "                       '\\u0394 Fee to <br> reward (%)', \n",
    "                       '\\u0394 Transaction <br> fee',\n",
    "                       'Development <br> contributor', \n",
    "                       'Development <br> activity',\n",
    "                       '\\u0394 Supply <br> deviation', \n",
    "                       '\\u0394 Coin <br> age', \n",
    "                       'Velocity',\n",
    "                       '\\u0394 Market <br> capitalization',\n",
    "                       '\\u0394 MVRV (%)',\n",
    "                       '\\u0394 Trading <br> volume', \n",
    "                       '\\u0394 Transaction <br> value', \n",
    "                       '\\u0394 Whale <br> transaction',\n",
    "                       'Flow <br> balance', \n",
    "                       '\\u0394 Withdrawal <br> transaction',\n",
    "                       '\\u0394 Supply on <br> exchange', \n",
    "                       'Supply on <br> non-exchange <br> top holder',\n",
    "                       'Weighted <br> sentiment', \n",
    "                       'Social <br> volume',\n",
    "                       'NFT transaction <br> count', \n",
    "                       'NFT trading <br> volume',\n",
    "                       'Log <br> return (%)', \n",
    "                       u'\\U0001D706(1,t)', \n",
    "                       u'\\U0001D706(2,t)', \n",
    "                       u'\\u03C3(t|t-2)'\n",
    "                       ]\n",
    "\n",
    "for i, e in enumerate(pos):\n",
    "    if e[0] is not None:\n",
    "        fig.add_annotation(x=pos[e][0],\n",
    "                           y=pos[e][1],\n",
    "                           text = '{}'.format(node_names[i]),\n",
    "                           showarrow = False,\n",
    "                        #    yshift= -20,\n",
    "                           align='center'\n",
    "                          )\n",
    "\n",
    "\n",
    "fig.show()\n"
   ]
  },
  {
   "attachments": {},
   "cell_type": "markdown",
   "metadata": {},
   "source": [
    "### lag matrix"
   ]
  },
  {
   "cell_type": "code",
   "execution_count": null,
   "metadata": {},
   "outputs": [],
   "source": [
    "corrected_group_lag_df = group_lag_df\n",
    "# *adj_matrix_sig.values"
   ]
  },
  {
   "cell_type": "code",
   "execution_count": 1955,
   "metadata": {},
   "outputs": [],
   "source": [
    "from_lst = []\n",
    "to_lst = []\n",
    "val = []\n",
    "for key, value in lag_res.items():\n",
    "    from_lst.append(key[0])\n",
    "    to_lst.append(key[1])\n",
    "    val.append(value)\n",
    "lag_df = pd.DataFrame({'from':from_lst, 'to':to_lst, 'lags':val})"
   ]
  },
  {
   "cell_type": "code",
   "execution_count": 1997,
   "metadata": {},
   "outputs": [],
   "source": [
    "group_lag_df = lag_df.groupby(['to', 'from'])['lags'].sum().unstack(fill_value=0)\n",
    "group_lag_df = group_lag_df.reindex(list(eth_new_df.columns))\n",
    "\n",
    "\n",
    "fitted_conditional_stdev_lag = [ v for k, v in lag_res.items() if 'fitted_conditional_stdev' in k] + [0]\n",
    "group_lag_df['fitted_conditional_stdev'] = fitted_conditional_stdev_lag\n",
    "\n",
    "group_lag_df = group_lag_df[list(eth_new_df.columns)]\n",
    "block_utilization_lag = [0] + [ v for k, v in lag_res.items() if 'block_utilization' in k]\n",
    "group_lag_df.loc['block_utilization'] = block_utilization_lag\n",
    "\n",
    "group_lag_df.columns = names \n",
    "group_lag_df.index = names\n"
   ]
  }
 ],
 "metadata": {
  "kernelspec": {
   "display_name": "Python 3",
   "language": "python",
   "name": "python3"
  },
  "language_info": {
   "codemirror_mode": {
    "name": "ipython",
    "version": 3
   },
   "file_extension": ".py",
   "mimetype": "text/x-python",
   "name": "python",
   "nbconvert_exporter": "python",
   "pygments_lexer": "ipython3",
   "version": "3.8.2"
  },
  "orig_nbformat": 4
 },
 "nbformat": 4,
 "nbformat_minor": 2
}
